{
 "cells": [
  {
   "cell_type": "code",
   "execution_count": 1,
   "metadata": {
    "collapsed": true
   },
   "outputs": [],
   "source": [
    "import pandas as pd\n",
    "import numpy as np\n",
    "import os"
   ]
  },
  {
   "cell_type": "code",
   "execution_count": 19,
   "metadata": {
    "collapsed": false
   },
   "outputs": [],
   "source": [
    "#define working folder\n",
    "working_folder = [\"D:/data_for_MWT/20150429_145542\",\n",
    "                 ]#add addtional working folders\n",
    "\n",
    "for folder in working_folder:\n",
    "    #filter out the 1200s files, if that's what is needed.\n",
    "    files_to_change= [item for item in os.listdir(folder) if '.1200s.' in item]\n",
    "\n",
    "    os.chdir(folder)\n",
    "    #the 3rd column is the time stamp\n",
    "\n",
    "    time_sta = 0\n",
    "    time_end = 1300\n",
    "\n",
    "    for data in files_to_change:\n",
    "        _df = pd.read_csv(data, sep=' ', header=None)\n",
    "        _df = _df[(_df.icol(3)<=time_end)&\n",
    "                  (_df.icol(3)>=time_sta)]\n",
    "        _df.to_csv(data, sep=' ', header=None, index=None, na_rep='NaN')"
   ]
  }
 ],
 "metadata": {
  "kernelspec": {
   "display_name": "Python 2",
   "language": "python",
   "name": "python2"
  },
  "language_info": {
   "codemirror_mode": {
    "name": "ipython",
    "version": 2
   },
   "file_extension": ".py",
   "mimetype": "text/x-python",
   "name": "python",
   "nbconvert_exporter": "python",
   "pygments_lexer": "ipython2",
   "version": "2.7.8"
  }
 },
 "nbformat": 4,
 "nbformat_minor": 0
}
